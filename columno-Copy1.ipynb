{
 "cells": [
  {
   "cell_type": "code",
   "execution_count": null,
   "id": "a99b715f-85b9-4171-bedd-0b48326fbf51",
   "metadata": {
    "tags": []
   },
   "outputs": [],
   "source": [
    "import templater3\n",
    "import re\n",
    "import nltk  \n",
    "import string\n",
    "from nltk.corpus import stopwords\n",
    "import Levenshtein\n",
    "from sklearn.metrics.pairwise import cosine_similarity\n",
    "from sklearn.feature_extraction.text import CountVectorizer"
   ]
  },
  {
   "cell_type": "code",
   "execution_count": null,
   "id": "90b05272-dd44-465c-bb84-93979d8ede3a",
   "metadata": {
    "tags": []
   },
   "outputs": [],
   "source": [
    "%pip install sklearn"
   ]
  },
  {
   "cell_type": "code",
   "execution_count": null,
   "id": "11cb4dcf-df6f-468b-a421-9f3da5a253e7",
   "metadata": {
    "tags": []
   },
   "outputs": [],
   "source": [
    "line = open('simplewiki-20211120-lists-1k.tsv').readlines()[0]\n",
    "page, code = line.split('\\t')\n",
    "\n",
    "# template = templater3.Templater(min_block_size=2)\n",
    "# for line in code.replace('\\\\n', '\\n').splitlines():\n",
    "#     template .learn(line)\n",
    "# template._template"
   ]
  },
  {
   "cell_type": "code",
   "execution_count": null,
   "id": "65f0cb08-9fc1-4a0f-aaa8-8a25b5adf076",
   "metadata": {
    "tags": []
   },
   "outputs": [],
   "source": [
    "def temp(c):\n",
    "    template = templater3.Templater(min_block_size=2)\n",
    "    for line in c:\n",
    "        template.learn(line)\n",
    "    return template"
   ]
  },
  {
   "cell_type": "code",
   "execution_count": null,
   "id": "95294048-eadd-4437-8592-6ea3b9652ce3",
   "metadata": {
    "tags": []
   },
   "outputs": [],
   "source": [
    "template = temp(code.replace('\\\\n', '\\n').splitlines())"
   ]
  },
  {
   "cell_type": "code",
   "execution_count": null,
   "id": "fd5a5598-4346-4997-accb-8c120b8c5f95",
   "metadata": {
    "tags": []
   },
   "outputs": [],
   "source": [
    "parsed = [template.parse(line) for line in code.replace('\\\\n', '\\n').splitlines()]\n",
    "columns = list(zip(*parsed))\n",
    "# for column in columns:\n",
    "#     print(set(column))"
   ]
  },
  {
   "cell_type": "code",
   "execution_count": null,
   "id": "25e2236a-dbb3-431c-8209-cdca36d1bc69",
   "metadata": {
    "tags": []
   },
   "outputs": [],
   "source": [
    "func = lambda c: c.endswith(')')\n",
    "\n",
    "def split_set(cells, func):\n",
    "    c1 = [c for c in cells if func(c)]\n",
    "    c2 = [c for c in cells if not func(c)]\n",
    "    return c1, c2\n",
    "\n",
    "c1, c2 = split_set(columns[-1], func)"
   ]
  },
  {
   "cell_type": "code",
   "execution_count": null,
   "id": "842609ff-1283-49e6-bad7-308d3018d7e2",
   "metadata": {
    "tags": []
   },
   "outputs": [],
   "source": [
    "c1template = temp(c1)\n",
    "c2template = temp(c2)"
   ]
  },
  {
   "cell_type": "code",
   "execution_count": null,
   "id": "8482e026-c466-4c3d-b23d-091c221a08d3",
   "metadata": {
    "tags": []
   },
   "outputs": [],
   "source": [
    "print(c1template._template)\n",
    "print(c2template._template)"
   ]
  },
  {
   "cell_type": "code",
   "execution_count": null,
   "id": "5c5f927d-7386-4bf4-9cd3-6a160a1324e3",
   "metadata": {
    "tags": []
   },
   "outputs": [],
   "source": [
    "c1template = templater3.Templater(min_block_size=2)\n",
    "for line in c1:\n",
    "    c1template.learn(line)\n",
    "c1template._template"
   ]
  },
  {
   "cell_type": "code",
   "execution_count": null,
   "id": "cb9b76c6-aec2-46e6-97fd-3ec1d2c37a27",
   "metadata": {
    "tags": []
   },
   "outputs": [],
   "source": [
    "c2template = templater3.Templater(min_block_size=2)\n",
    "for line in c2:\n",
    "    c2template.learn(line)\n",
    "c2template._template"
   ]
  },
  {
   "cell_type": "code",
   "execution_count": null,
   "id": "b2eb563b-02c3-4cd0-9ef2-6f0a56158c5c",
   "metadata": {
    "tags": []
   },
   "outputs": [],
   "source": [
    "english_stopwords = stopwords.words('english')\n",
    "set_english_stopwords = set(english_stopwords) "
   ]
  },
  {
   "cell_type": "code",
   "execution_count": null,
   "id": "0fb143de-f046-4a51-8699-bc3923af526f",
   "metadata": {
    "tags": []
   },
   "outputs": [],
   "source": [
    "c1 = str(c1)\n",
    "c2 = str(c2)"
   ]
  },
  {
   "cell_type": "code",
   "execution_count": null,
   "id": "72365b8d-f8d9-4f3f-86af-2aae8ade65c3",
   "metadata": {
    "tags": []
   },
   "outputs": [],
   "source": [
    "# def stopword(x):    \n",
    "#     without_stopwords = []\n",
    "    \n",
    "#     a_sentence = re.findall(r\"\\w+|[^\\w\\s]\", x, re.UNICODE)\n",
    "\n",
    "#     for token in a_sentence:\n",
    "#         if token not in set_english_stopwords:\n",
    "#             without_stopwords.append(token)\n",
    "    \n",
    "#     return a_sentence\n",
    "\n",
    "# def capital(x):\n",
    "    \n",
    "#     cap = re.split('(?<=.)(?=[A-Z])', x)\n",
    "    \n",
    "#     return cap\n",
    "\n",
    "\n",
    "# def grammar(x):\n",
    "    \n",
    "#     punc = re.split('([' + re.escape(string.punctuation) + '])', x)\n",
    "    \n",
    "#     return punc\n"
   ]
  },
  {
   "cell_type": "code",
   "execution_count": null,
   "id": "7b3f9bac-799e-4887-9a1a-6cf7e54a0bd7",
   "metadata": {},
   "outputs": [],
   "source": [
    "def process_text(x):\n",
    "    # capitals \n",
    "    cap = re.split('(?<=.)(?=[A-Z])', x)\n",
    "    \n",
    "    # punctuation\n",
    "    punc = re.split('([' + re.escape(string.punctuation) + '])', x)\n",
    "    \n",
    "    # stop words\n",
    "    without_stopwords = []\n",
    "    a_sentence = []\n",
    "    \n",
    "    for match in re.finditer(r'[^.,?!\\s]+|[.,?!]', x):\n",
    "        a_sentence.append(match.group())\n",
    "\n",
    "    for token in a_sentence:\n",
    "        if token not in set_english_stopwords:\n",
    "            without_stopwords.append(token)\n",
    "    \n",
    "    return cap, punc, without_stopwords"
   ]
  },
  {
   "cell_type": "code",
   "execution_count": null,
   "id": "d10fda3f-6fc9-4426-a255-b234a76a4e3b",
   "metadata": {
    "tags": []
   },
   "outputs": [],
   "source": [
    "Levenshtein.distance(str(process_text(c1)), str(process_text(c2)))"
   ]
  },
  {
   "cell_type": "code",
   "execution_count": null,
   "id": "68d14d41-3058-4310-b18f-a020e2f6551b",
   "metadata": {
    "tags": []
   },
   "outputs": [],
   "source": [
    "process_text(c2)"
   ]
  },
  {
   "cell_type": "code",
   "execution_count": null,
   "id": "1c4a542a-6942-4c2e-a9be-f0394c11fd51",
   "metadata": {},
   "outputs": [],
   "source": []
  }
 ],
 "metadata": {
  "kernelspec": {
   "display_name": "Python (templater)",
   "language": "python",
   "name": "templater"
  },
  "language_info": {
   "codemirror_mode": {
    "name": "ipython",
    "version": 3
   },
   "file_extension": ".py",
   "mimetype": "text/x-python",
   "name": "python",
   "nbconvert_exporter": "python",
   "pygments_lexer": "ipython3",
   "version": "3.8.16"
  }
 },
 "nbformat": 4,
 "nbformat_minor": 5
}
