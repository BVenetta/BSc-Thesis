{
 "cells": [
  {
   "cell_type": "markdown",
   "id": "995b9bf9-408e-4109-9776-ee0fcb925ccd",
   "metadata": {},
   "source": [
    "# Libraries"
   ]
  },
  {
   "cell_type": "code",
   "execution_count": 1,
   "id": "2a59d9cc-d1d9-495a-8577-3d5b04404989",
   "metadata": {
    "tags": []
   },
   "outputs": [],
   "source": [
    "import numpy as np\n",
    "import Levenshtein\n",
    "from sklearn.cluster import AgglomerativeClustering\n",
    "import templater3\n",
    "import re\n",
    "from nltk.corpus import stopwords\n",
    "import pandas as pd"
   ]
  },
  {
   "cell_type": "markdown",
   "id": "1f27c80d-01c4-440e-b5b3-093802a469c0",
   "metadata": {
    "tags": []
   },
   "source": [
    "# Dataset"
   ]
  },
  {
   "cell_type": "code",
   "execution_count": 2,
   "id": "75c99ede-3091-4533-97f2-8db29df7255a",
   "metadata": {
    "tags": []
   },
   "outputs": [],
   "source": [
    "line = open('simplewiki-20211120-lists-1k.tsv').readlines()[0]\n",
    "lines = open('simplewiki-20211120-lists-1k.tsv').readlines()\n",
    "    \n",
    "page, code = line.split('\\t')\n",
    "rows = code.replace('\\\\n','\\n').splitlines()\n"
   ]
  },
  {
   "cell_type": "markdown",
   "id": "ef75d493-6271-4264-bce8-9d44f384655c",
   "metadata": {
    "tags": []
   },
   "source": [
    "## Attempt to delete things in dataset to fix error"
   ]
  },
  {
   "cell_type": "raw",
   "id": "e4b84251-09c9-49e4-928c-5d4a27537cf6",
   "metadata": {
    "tags": []
   },
   "source": [
    "line = open('simplewiki-20211120-lists-1k.tsv').readlines()[0]\n",
    "file_name = 'simplewiki-20211120-lists-1k.tsv'\n",
    "lines = open(file_name, 'r').readlines()\n",
    "\n",
    "page, code = line.split('\\t')\n",
    "rows = code.replace('\\\\n','\\n').splitlines()"
   ]
  },
  {
   "cell_type": "raw",
   "id": "c43624e0-1fba-4c58-904c-ae0121441157",
   "metadata": {
    "tags": []
   },
   "source": [
    "if '1k' in file_name:\n",
    "    lines.pop(22)\n",
    "    lines.pop(723)\n",
    "    lines.pop(743)\n",
    "if 'big' in file_name:\n",
    "    lines.pop(27)\n",
    "    lines.pop(746)\n",
    "    lines.pop(768)\n",
    "    lines.pop(3098)\n",
    "    lines.pop(3127)\n",
    "    lines.pop(3127)\n",
    "    lines.pop(3419)\n",
    "    lines.pop(3419)\n",
    "    lines.pop(3838)\n",
    "    lines.pop(3861)\n",
    "    lines.pop(4409)\n",
    "    lines.pop(10192)\n",
    "    lines.pop(10504)\n",
    "    lines.pop(11495)\n",
    "    lines.pop(13839)\n",
    "    lines.pop(13869)\n",
    "    lines.pop(14140)\n",
    "    lines.pop(14166)\n",
    "    lines.pop(14168)\n",
    "    lines.pop(14168)\n",
    "    lines.pop(14323)\n",
    "    lines.pop(14409)\n",
    "    lines.pop(14511)\n",
    "    lines.pop(14995)\n",
    "    lines.pop(15590)\n",
    "    lines.pop(15676)\n",
    "    lines.pop(15880)\n",
    "    lines.pop(16022)\n",
    "    lines.pop(16108)\n",
    "    lines.pop(16108)\n",
    "    lines.pop(16869)\n",
    "    lines.pop(16887)\n",
    "    lines.pop(16928)\n",
    "    lines.pop(17015)\n",
    "    lines.pop(17936)\n",
    "    lines.pop(18414)\n",
    "    lines.pop(19814)\n",
    "    lines.pop(19317)\n",
    "    lines.pop(20402)\n",
    "    lines.pop(20746)\n",
    "    lines.pop(22084)\n",
    "    lines.pop(22452)\n",
    "    lines.pop(22826)\n",
    "    lines.pop(23250)\n",
    "    lines.pop(23388)\n",
    "\n",
    "\n",
    "\n",
    "to_delete = [1715, 1716, 1794, 2531, 2756, 3634, 4422, 5196, 6965, 11056, 11066,\n",
    "             11517, 12600, 13666, 14160, 14468, 14469, 14470, 15028, 15329,\n",
    "             15330, 15331, 15332, 15333, 16744, 17014, 17550, 17551, 19807]\n",
    "\n",
    "lines = [line for index, line in enumerate(lines) if index not in to_delete]\n",
    "\n",
    "print('Data read')"
   ]
  },
  {
   "cell_type": "markdown",
   "id": "16f07de6-84b5-4663-84f2-f85a7d320ad8",
   "metadata": {},
   "source": [
    "# Data Preperation\n",
    "## Clustering"
   ]
  },
  {
   "cell_type": "code",
   "execution_count": 3,
   "id": "d46e4740-99f2-480c-abdf-48257871a790",
   "metadata": {
    "tags": []
   },
   "outputs": [],
   "source": [
    "# Levenshtein distance between cross-product combination of items in row\n",
    "distances = [\n",
    "    [\n",
    "        Levenshtein.distance(rows[i], rows[j])\n",
    "        for j in range(len(rows))\n",
    "    ]\n",
    "    for i in range(len(rows))\n",
    "]"
   ]
  },
  {
   "cell_type": "code",
   "execution_count": 4,
   "id": "3484cd55-0302-4409-a858-e2d259abc8d8",
   "metadata": {
    "tags": []
   },
   "outputs": [],
   "source": [
    "# average distance of distances and use that as threshold\n",
    "total_distances = sum(sum(row) for row in distances)\n",
    "total_elements = sum(len(row) for row in distances)\n",
    "average_distance = total_distances / total_elements"
   ]
  },
  {
   "cell_type": "code",
   "execution_count": 5,
   "id": "cf9a4c5a-21a6-427e-9102-6a45e43e5127",
   "metadata": {
    "tags": []
   },
   "outputs": [],
   "source": [
    "agg = AgglomerativeClustering(n_clusters=None, metric='precomputed', linkage='average', distance_threshold=average_distance)\n",
    "clusters = agg.fit_predict(distances)"
   ]
  },
  {
   "cell_type": "code",
   "execution_count": 6,
   "id": "74fa15cc-e501-4756-a58a-97a0324b63bd",
   "metadata": {
    "tags": []
   },
   "outputs": [],
   "source": [
    "cluster_rows = {}\n",
    "for cluster_id, row in zip(clusters, rows):\n",
    "    cluster_rows.setdefault(cluster_id, []).append( row )"
   ]
  },
  {
   "cell_type": "code",
   "execution_count": 7,
   "id": "9a9dbdf3-822e-491d-9d7d-e16bff11620a",
   "metadata": {
    "tags": []
   },
   "outputs": [],
   "source": [
    "cls = []\n",
    "for k, v in cluster_rows.items():\n",
    "    if len(v) > 1:\n",
    "        cls += v"
   ]
  },
  {
   "cell_type": "markdown",
   "id": "5470da7e-ab85-4248-90fd-1b880fbc81df",
   "metadata": {},
   "source": [
    "## Two datasets"
   ]
  },
  {
   "cell_type": "code",
   "execution_count": 8,
   "id": "40fc8471-5425-4223-9899-fc34ae91274d",
   "metadata": {
    "tags": []
   },
   "outputs": [],
   "source": [
    "# clustered dataset\n",
    "clean = [item.replace('\\\\n', '\\n') for item in cls]"
   ]
  },
  {
   "cell_type": "code",
   "execution_count": 9,
   "id": "0e619cf8-ac71-4acc-9641-ad76bcdd54d3",
   "metadata": {
    "tags": []
   },
   "outputs": [],
   "source": [
    "# without clustering\n",
    "norm = code.replace('\\\\n', '\\n').splitlines()"
   ]
  },
  {
   "cell_type": "markdown",
   "id": "03202bd1-9699-4e4a-bac0-c0da728b0d3a",
   "metadata": {
    "tags": []
   },
   "source": [
    "# Info extracting"
   ]
  },
  {
   "cell_type": "code",
   "execution_count": 10,
   "id": "63f7e9d3-c7ab-43c7-a2a6-d24059b9b00b",
   "metadata": {
    "tags": []
   },
   "outputs": [],
   "source": [
    "# Recursive function\n",
    "def split_set(cells, func):\n",
    "    c1 = [c for c in cells if func(c)]\n",
    "    c2 = [c for c in cells if not func(c)]\n",
    "    return c1, c2"
   ]
  },
  {
   "cell_type": "code",
   "execution_count": 11,
   "id": "cc180d5d-cb65-4de0-bd7d-7d65d96dd09d",
   "metadata": {
    "tags": []
   },
   "outputs": [],
   "source": [
    "def parse_template(template, row):\n",
    "    try:\n",
    "        return template.parse(row)\n",
    "    except ValueError:\n",
    "        pass"
   ]
  },
  {
   "cell_type": "code",
   "execution_count": 12,
   "id": "9b95a8c0-9994-4b50-817e-17c7355a5842",
   "metadata": {},
   "outputs": [],
   "source": [
    "def get_pattern(rows, func, depth=0):\n",
    "    # Learn template\n",
    "    template = templater3.Templater(min_block_size=2)\n",
    "    for row in rows:\n",
    "        template.learn(row)\n",
    "        \n",
    "    # Parse rows using template to make columns = transposing\n",
    "    parsed = parse_template(template, row)\n",
    "    \n",
    "    columns = list(zip(*parsed))\n",
    "    \n",
    "    for idx, column in enumerate(columns):\n",
    "        if not any(column):\n",
    "            template._template[idx*2] = ''\n",
    "            continue\n",
    "        \n",
    "        splits = split_set(column, func)\n",
    "        \n",
    "        if any(not c for c in splits):\n",
    "            template._template[idx*2] = ''\n",
    "        try:\n",
    "            template._template[idx*2] = tuple([\n",
    "                get_pattern(c, func, depth=depth+1)\n",
    "                for c in splits\n",
    "            ])\n",
    "        except IndexError:\n",
    "            pass\n",
    "            \n",
    "    return template._template"
   ]
  },
  {
   "cell_type": "markdown",
   "id": "3fbec202-76dd-48c2-a504-6b0322c2b9bf",
   "metadata": {},
   "source": [
    "## Heuristics"
   ]
  },
  {
   "cell_type": "code",
   "execution_count": 13,
   "id": "28c10bc9-a329-4e91-b22b-9434f85a331e",
   "metadata": {
    "tags": []
   },
   "outputs": [],
   "source": [
    "# heuristic NO.1: Split every capital letters\n",
    "func1 = lambda c: re.search('[A-Z]', c) is not None\n",
    "\n",
    "# heuristic NO.2: Split every special character\n",
    "func2 = lambda c: re.search(r'[!\"#$%&\\'()*+,\\-./:;<=>?@\\[\\\\\\]^_`{|}~]', c) is not None\n",
    "\n",
    "# heuristic NO.3: Split every stopword\n",
    "stopwords_set = set(stopwords.words('english'))\n",
    "func3 = lambda c: any(word in stopwords_set for word in c.split())"
   ]
  },
  {
   "cell_type": "markdown",
   "id": "32e42183-4131-42f4-b26b-052ae6d0a562",
   "metadata": {},
   "source": [
    "## Check outputs"
   ]
  },
  {
   "cell_type": "code",
   "execution_count": 14,
   "id": "4d8fbda5-2a06-405b-9cf4-11b7df0efd13",
   "metadata": {
    "tags": []
   },
   "outputs": [
    {
     "data": {
      "text/plain": [
       "[None, '* [[April ', None, ']] - ', None]"
      ]
     },
     "execution_count": 14,
     "metadata": {},
     "output_type": "execute_result"
    }
   ],
   "source": [
    "get_pattern(norm, func1)"
   ]
  },
  {
   "cell_type": "code",
   "execution_count": 15,
   "id": "21203eef-843b-4537-b492-1e0284c42b2d",
   "metadata": {},
   "outputs": [
    {
     "data": {
      "text/plain": [
       "[None, '* [[April ', None, ']] - ', None]"
      ]
     },
     "execution_count": 15,
     "metadata": {},
     "output_type": "execute_result"
    }
   ],
   "source": [
    "get_pattern(norm, func2)"
   ]
  },
  {
   "cell_type": "code",
   "execution_count": 16,
   "id": "fe6feac5-d5d0-451d-b4bd-afb002298a73",
   "metadata": {},
   "outputs": [
    {
     "data": {
      "text/plain": [
       "[None, '* [[April ', None, ']] - ', None]"
      ]
     },
     "execution_count": 16,
     "metadata": {},
     "output_type": "execute_result"
    }
   ],
   "source": [
    "get_pattern(norm, func3)"
   ]
  },
  {
   "cell_type": "code",
   "execution_count": 17,
   "id": "5a104057-0a32-4682-913d-3b1e5eaf2d8e",
   "metadata": {
    "tags": []
   },
   "outputs": [
    {
     "data": {
      "text/plain": [
       "[None, '* [[April ', None, ']] - ', None]"
      ]
     },
     "execution_count": 17,
     "metadata": {},
     "output_type": "execute_result"
    }
   ],
   "source": [
    "get_pattern(clean, func1)"
   ]
  },
  {
   "cell_type": "code",
   "execution_count": 18,
   "id": "7c781f09-1ae5-4897-8d4d-5deedc8d37ed",
   "metadata": {},
   "outputs": [
    {
     "data": {
      "text/plain": [
       "[None, '* [[April ', None, ']] - ', None]"
      ]
     },
     "execution_count": 18,
     "metadata": {},
     "output_type": "execute_result"
    }
   ],
   "source": [
    "get_pattern(clean, func2)"
   ]
  },
  {
   "cell_type": "code",
   "execution_count": 19,
   "id": "7d356512-34d1-4154-b5c3-41c6e49f0674",
   "metadata": {},
   "outputs": [
    {
     "data": {
      "text/plain": [
       "[None, '* [[April ', None, ']] - ', None]"
      ]
     },
     "execution_count": 19,
     "metadata": {},
     "output_type": "execute_result"
    }
   ],
   "source": [
    "get_pattern(clean, func3)"
   ]
  },
  {
   "cell_type": "markdown",
   "id": "aa0d19fd-a452-4fd3-ba04-a4cfb6359f5b",
   "metadata": {},
   "source": [
    "# Automate info extract"
   ]
  },
  {
   "cell_type": "code",
   "execution_count": 20,
   "id": "ac1fcb5f-efa3-4081-b414-61fcfc25cb98",
   "metadata": {
    "tags": []
   },
   "outputs": [],
   "source": [
    "def automate(line):\n",
    "    page, code = line.split('\\t')\n",
    "    rows = code.replace('\\\\n','\\n').splitlines()\n",
    "    \n",
    "    distances = [\n",
    "    [\n",
    "        Levenshtein.distance(rows[i], rows[j])\n",
    "        for j in range(len(rows))\n",
    "    ]\n",
    "    for i in range(len(rows))]\n",
    "    \n",
    "    total_distances = sum(sum(row) for row in distances)\n",
    "    total_elements = sum(len(row) for row in distances)\n",
    "    average_distance = total_distances / total_elements\n",
    "    \n",
    "    agglomerative = AgglomerativeClustering(n_clusters=None, metric='precomputed', linkage='average', distance_threshold=average_distance)\n",
    "    clusters = agglomerative.fit_predict(distances)\n",
    "    \n",
    "    clustered_rows = {}\n",
    "    for cluster_id, row in zip(clusters, rows):\n",
    "        clustered_rows.setdefault(cluster_id, []).append( row )\n",
    "        \n",
    "    cls = []\n",
    "    for k, v in clustered_rows.items():\n",
    "        if len(v) > 1:\n",
    "            cls += v\n",
    "    \n",
    "    norm = code.replace('\\\\n', '\\n').splitlines()\n",
    "    clean = [item.replace('\\\\n', '\\n') for item in cls]    \n",
    "    \n",
    "    get_pattern(norm, func1)\n",
    "    get_pattern(norm, func2)\n",
    "    get_pattern(norm, func3)\n",
    "    get_pattern(clean, func1)\n",
    "    get_pattern(clean, func2)\n",
    "    get_pattern(clean, func3)\n",
    "    print()"
   ]
  },
  {
   "cell_type": "markdown",
   "id": "f750a265-237b-4baa-9b10-d8ec61927548",
   "metadata": {},
   "source": [
    "# Issue with executing automation"
   ]
  },
  {
   "cell_type": "code",
   "execution_count": null,
   "id": "8288fddc-9f65-42e0-ad50-54e313315424",
   "metadata": {},
   "outputs": [
    {
     "name": "stdout",
     "output_type": "stream",
     "text": [
      "\n"
     ]
    }
   ],
   "source": [
    "import sys\n",
    "\n",
    "sys.setrecursionlimit(10000)  # Set a higher recursion limit\n",
    "\n",
    "\n",
    "for line in lines:\n",
    "    automate(line)"
   ]
  },
  {
   "cell_type": "code",
   "execution_count": null,
   "id": "be54a5f0-2f3f-4657-9175-4c575d6b8303",
   "metadata": {},
   "outputs": [],
   "source": []
  }
 ],
 "metadata": {
  "kernelspec": {
   "display_name": "Python (templater)",
   "language": "python",
   "name": "templater"
  },
  "language_info": {
   "codemirror_mode": {
    "name": "ipython",
    "version": 3
   },
   "file_extension": ".py",
   "mimetype": "text/x-python",
   "name": "python",
   "nbconvert_exporter": "python",
   "pygments_lexer": "ipython3",
   "version": "3.8.16"
  }
 },
 "nbformat": 4,
 "nbformat_minor": 5
}
