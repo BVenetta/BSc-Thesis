{
 "cells": [
  {
   "cell_type": "markdown",
   "id": "995b9bf9-408e-4109-9776-ee0fcb925ccd",
   "metadata": {},
   "source": [
    "# Libraries"
   ]
  },
  {
   "cell_type": "code",
   "execution_count": 1,
   "id": "2a59d9cc-d1d9-495a-8577-3d5b04404989",
   "metadata": {
    "tags": []
   },
   "outputs": [],
   "source": [
    "import numpy as np\n",
    "import Levenshtein\n",
    "from sklearn.cluster import AgglomerativeClustering\n",
    "import templater3\n",
    "import re\n",
    "from nltk.corpus import stopwords\n",
    "import pandas as pd"
   ]
  },
  {
   "cell_type": "markdown",
   "id": "1f27c80d-01c4-440e-b5b3-093802a469c0",
   "metadata": {
    "tags": []
   },
   "source": [
    "# Dataset"
   ]
  },
  {
   "cell_type": "code",
   "execution_count": 2,
   "id": "75c99ede-3091-4533-97f2-8db29df7255a",
   "metadata": {
    "tags": []
   },
   "outputs": [
    {
     "data": {
      "text/plain": [
       "'Art\\t* [[Modern art]]\\\\n* [[Abstract art]]\\\\n* [[Painting]]\\\\n* [[Sculpture]]\\\\n* [[Street art]]\\n'"
      ]
     },
     "execution_count": 2,
     "metadata": {},
     "output_type": "execute_result"
    }
   ],
   "source": [
    "line = open('simplewiki-20211120-lists-1k.tsv').readlines()[9]\n",
    "lines = open('simplewiki-20211120-lists-1k.tsv').readlines()\n",
    "    \n",
    "page, code = line.split('\\t')\n",
    "rows = code.replace('\\\\n','\\n').splitlines()\n",
    "line"
   ]
  },
  {
   "cell_type": "raw",
   "id": "e4b84251-09c9-49e4-928c-5d4a27537cf6",
   "metadata": {
    "tags": []
   },
   "source": [
    "line = open('simplewiki-20211120-lists-1k.tsv').readlines()[0]\n",
    "file_name = 'simplewiki-20211120-lists-1k.tsv'\n",
    "lines = open(file_name, 'r').readlines()\n",
    "\n",
    "page, code = line.split('\\t')\n",
    "rows = code.replace('\\\\n','\\n').splitlines()"
   ]
  },
  {
   "cell_type": "raw",
   "id": "c43624e0-1fba-4c58-904c-ae0121441157",
   "metadata": {
    "tags": []
   },
   "source": [
    "if '1k' in file_name:\n",
    "    lines.pop(22)\n",
    "    lines.pop(723)\n",
    "    lines.pop(743)\n",
    "if 'big' in file_name:\n",
    "    lines.pop(27)\n",
    "    lines.pop(746)\n",
    "    lines.pop(768)\n",
    "    lines.pop(3098)\n",
    "    lines.pop(3127)\n",
    "    lines.pop(3127)\n",
    "    lines.pop(3419)\n",
    "    lines.pop(3419)\n",
    "    lines.pop(3838)\n",
    "    lines.pop(3861)\n",
    "    lines.pop(4409)\n",
    "    lines.pop(10192)\n",
    "    lines.pop(10504)\n",
    "    lines.pop(11495)\n",
    "    lines.pop(13839)\n",
    "    lines.pop(13869)\n",
    "    lines.pop(14140)\n",
    "    lines.pop(14166)\n",
    "    lines.pop(14168)\n",
    "    lines.pop(14168)\n",
    "    lines.pop(14323)\n",
    "    lines.pop(14409)\n",
    "    lines.pop(14511)\n",
    "    lines.pop(14995)\n",
    "    lines.pop(15590)\n",
    "    lines.pop(15676)\n",
    "    lines.pop(15880)\n",
    "    lines.pop(16022)\n",
    "    lines.pop(16108)\n",
    "    lines.pop(16108)\n",
    "    lines.pop(16869)\n",
    "    lines.pop(16887)\n",
    "    lines.pop(16928)\n",
    "    lines.pop(17015)\n",
    "    lines.pop(17936)\n",
    "    lines.pop(18414)\n",
    "    lines.pop(19814)\n",
    "    lines.pop(19317)\n",
    "    lines.pop(20402)\n",
    "    lines.pop(20746)\n",
    "    lines.pop(22084)\n",
    "    lines.pop(22452)\n",
    "    lines.pop(22826)\n",
    "    lines.pop(23250)\n",
    "    lines.pop(23388)\n",
    "\n",
    "\n",
    "\n",
    "to_delete = [1715, 1716, 1794, 2531, 2756, 3634, 4422, 5196, 6965, 11056, 11066,\n",
    "             11517, 12600, 13666, 14160, 14468, 14469, 14470, 15028, 15329,\n",
    "             15330, 15331, 15332, 15333, 16744, 17014, 17550, 17551, 19807]\n",
    "\n",
    "lines = [line for index, line in enumerate(lines) if index not in to_delete]\n",
    "\n",
    "print('Data read')"
   ]
  },
  {
   "cell_type": "code",
   "execution_count": 3,
   "id": "63f7e9d3-c7ab-43c7-a2a6-d24059b9b00b",
   "metadata": {
    "tags": []
   },
   "outputs": [],
   "source": [
    "# Recursive function\n",
    "def split_set(cells, func):\n",
    "    c1 = [c for c in cells if func(c)]\n",
    "    c2 = [c for c in cells if not func(c)]\n",
    "    return c1, c2"
   ]
  },
  {
   "cell_type": "code",
   "execution_count": 4,
   "id": "cc180d5d-cb65-4de0-bd7d-7d65d96dd09d",
   "metadata": {
    "tags": []
   },
   "outputs": [],
   "source": [
    "def parse_template(template, row):\n",
    "    try:\n",
    "        return template.parse(row)\n",
    "    except ValueError:\n",
    "        pass"
   ]
  },
  {
   "cell_type": "code",
   "execution_count": 5,
   "id": "9b95a8c0-9994-4b50-817e-17c7355a5842",
   "metadata": {},
   "outputs": [],
   "source": [
    "def get_pattern(rows, func, depth=0):\n",
    "    # Learn template\n",
    "    template = templater3.Templater(min_block_size=2)\n",
    "    for row in rows:\n",
    "        template.learn(row)\n",
    "        \n",
    "    # Parse rows using template to make columns = transposing\n",
    "    parsed = parse_template(template, row)\n",
    "    \n",
    "    columns = list(zip(*parsed))\n",
    "    \n",
    "    for idx, column in enumerate(columns):\n",
    "        if not any(column):\n",
    "            template._template[idx*2] = ''\n",
    "            continue\n",
    "        \n",
    "        splits = split_set(column, func)\n",
    "        \n",
    "        if any(not c for c in splits):\n",
    "            template._template[idx*2] = ''\n",
    "        try:\n",
    "            template._template[idx*2] = tuple([\n",
    "                get_pattern(c, func, depth=depth+1)\n",
    "                for c in splits\n",
    "            ])\n",
    "        except IndexError:\n",
    "            pass\n",
    "            \n",
    "    return template._template"
   ]
  },
  {
   "cell_type": "markdown",
   "id": "aa0d19fd-a452-4fd3-ba04-a4cfb6359f5b",
   "metadata": {},
   "source": [
    "# Automate info extract"
   ]
  },
  {
   "cell_type": "code",
   "execution_count": 6,
   "id": "d7f5c998-3276-427b-8abb-5ee2e666c393",
   "metadata": {},
   "outputs": [],
   "source": [
    "# heuristic NO.1: Split every capital letters\n",
    "func1 = lambda c: re.search('[A-Z]', c) is not None\n",
    "\n",
    "# heuristic NO.2: Split every special character\n",
    "func2 = lambda c: re.search(r'[!\"#$%&\\'()*+,\\-./:;<=>?@\\[\\\\\\]^_`{|}~]', c) is not None\n",
    "\n",
    "# heuristic NO.3: Split every stopword\n",
    "stopwords_set = set(stopwords.words('english'))\n",
    "func3 = lambda c: any(word in stopwords_set for word in c.split())"
   ]
  },
  {
   "cell_type": "code",
   "execution_count": 7,
   "id": "6ce5f96c-49cc-44eb-ad8a-0d0c5585b53b",
   "metadata": {},
   "outputs": [],
   "source": [
    "def split_set(cells, func):\n",
    "    c1 = [c for c in cells if func(c)]\n",
    "    c2 = [c for c in cells if not func(c)]\n",
    "    return c1, c2"
   ]
  },
  {
   "cell_type": "code",
   "execution_count": 8,
   "id": "27219e5b-a7d6-4b90-89f6-a0e6ed7a3bae",
   "metadata": {
    "tags": []
   },
   "outputs": [],
   "source": [
    "def parse_template(template, row):\n",
    "    try:\n",
    "        return template.parse(row)\n",
    "    except ValueError:\n",
    "        pass"
   ]
  },
  {
   "cell_type": "code",
   "execution_count": 9,
   "id": "1f549c57-27ce-42fe-9ba4-3f8db3c331d0",
   "metadata": {
    "tags": []
   },
   "outputs": [],
   "source": [
    "def get_pattern(rows, func, depth=0, max_depth=5):\n",
    "    if depth > max_depth:\n",
    "        return []\n",
    "\n",
    "    template = templater3.Templater(min_block_size=2)\n",
    "    for row in rows:\n",
    "        template.learn(row)\n",
    "\n",
    "    parsed = [template.parse(row) for row in rows]\n",
    "    columns = list(zip(*parsed))\n",
    "\n",
    "    for idx, column in enumerate(columns):\n",
    "        if not any(column):\n",
    "            template._template[idx*2] = ''\n",
    "            continue\n",
    "\n",
    "        splits = split_set(column, func)\n",
    "\n",
    "        if any(not c for c in splits):\n",
    "            template._template[idx*2] = ''\n",
    "        try:\n",
    "            template._template[idx*2] = tuple([\n",
    "                get_pattern(c, func, depth=depth+1, max_depth=max_depth)\n",
    "                for c in splits\n",
    "            ])\n",
    "        except IndexError:\n",
    "            pass\n",
    "\n",
    "    return template._template\n"
   ]
  },
  {
   "cell_type": "code",
   "execution_count": 10,
   "id": "ac1fcb5f-efa3-4081-b414-61fcfc25cb98",
   "metadata": {
    "tags": []
   },
   "outputs": [],
   "source": [
    "def automate(line):\n",
    "    page, code = line.split('\\t')\n",
    "    rows = code.replace('\\\\n','\\n').splitlines()\n",
    "    \n",
    "    distances = [\n",
    "    [\n",
    "        Levenshtein.distance(rows[i], rows[j])\n",
    "        for j in range(len(rows))\n",
    "    ]\n",
    "    for i in range(len(rows))]\n",
    "    \n",
    "    total_distances = sum(sum(row) for row in distances)\n",
    "    total_elements = sum(len(row) for row in distances)\n",
    "    average_distance = total_distances / total_elements\n",
    "    \n",
    "    agglomerative = AgglomerativeClustering(n_clusters=None, metric='precomputed', linkage='average', distance_threshold=average_distance)\n",
    "    clusters = agglomerative.fit_predict(distances)\n",
    "    \n",
    "    clustered_rows = {}\n",
    "    for cluster_id, row in zip(clusters, rows):\n",
    "        clustered_rows.setdefault(cluster_id, []).append( row )\n",
    "        \n",
    "    clean = []\n",
    "    for k, v in clustered_rows.items():\n",
    "        if len(v) > 1:\n",
    "            clean += v\n",
    "    \n",
    "    \n",
    "    results = [get_pattern(rows, func1, max_depth=5), \n",
    "          get_pattern(rows, func2, max_depth=5), \n",
    "          get_pattern(rows, func3, max_depth=5), \n",
    "          get_pattern(clean, func1, max_depth=5), \n",
    "          get_pattern(clean, func2, max_depth=5), get_pattern(clean, func3, max_depth=5)]\n",
    "    result_series = pd.Series(results, index=['N_cap', 'N_special', 'N_stop', 'C_cap', 'C_special', 'C_stop'])\n",
    "\n",
    "    return result_series"
   ]
  },
  {
   "cell_type": "markdown",
   "id": "f750a265-237b-4baa-9b10-d8ec61927548",
   "metadata": {},
   "source": [
    "# Issue with executing automation"
   ]
  },
  {
   "cell_type": "code",
   "execution_count": 11,
   "id": "be54a5f0-2f3f-4657-9175-4c575d6b8303",
   "metadata": {},
   "outputs": [],
   "source": [
    "# Create an empty dataframe with the desired column names\n",
    "results_df = pd.DataFrame(columns=['N_cap', 'N_special', 'N_stop', 'C_cap', 'C_special', 'C_stop'])\n"
   ]
  },
  {
   "cell_type": "code",
   "execution_count": 12,
   "id": "eecedff5-4849-4c8b-a9b0-a6a78b437d98",
   "metadata": {
    "tags": []
   },
   "outputs": [
    {
     "ename": "AttributeError",
     "evalue": "'DataFrame' object has no attribute 'append'",
     "output_type": "error",
     "traceback": [
      "\u001b[0;31m---------------------------------------------------------------------------\u001b[0m",
      "\u001b[0;31mAttributeError\u001b[0m                            Traceback (most recent call last)",
      "\u001b[0;32m/tmp/ipykernel_329394/3415388107.py\u001b[0m in \u001b[0;36m?\u001b[0;34m()\u001b[0m\n\u001b[1;32m      1\u001b[0m \u001b[0;32mfor\u001b[0m \u001b[0mline\u001b[0m \u001b[0;32min\u001b[0m \u001b[0mlines\u001b[0m\u001b[0;34m:\u001b[0m\u001b[0;34m\u001b[0m\u001b[0;34m\u001b[0m\u001b[0m\n\u001b[1;32m      2\u001b[0m     \u001b[0mresult_series\u001b[0m \u001b[0;34m=\u001b[0m \u001b[0mautomate\u001b[0m\u001b[0;34m(\u001b[0m\u001b[0mline\u001b[0m\u001b[0;34m)\u001b[0m\u001b[0;34m\u001b[0m\u001b[0;34m\u001b[0m\u001b[0m\n\u001b[0;32m----> 3\u001b[0;31m     \u001b[0mresults_df\u001b[0m \u001b[0;34m=\u001b[0m \u001b[0mresults_df\u001b[0m\u001b[0;34m.\u001b[0m\u001b[0mappend\u001b[0m\u001b[0;34m(\u001b[0m\u001b[0mresult_series\u001b[0m\u001b[0;34m,\u001b[0m \u001b[0mignore_index\u001b[0m\u001b[0;34m=\u001b[0m\u001b[0;32mTrue\u001b[0m\u001b[0;34m)\u001b[0m\u001b[0;34m\u001b[0m\u001b[0;34m\u001b[0m\u001b[0m\n\u001b[0m",
      "\u001b[0;32m~/.conda/envs/templater/lib/python3.8/site-packages/pandas/core/generic.py\u001b[0m in \u001b[0;36m?\u001b[0;34m(self, name)\u001b[0m\n\u001b[1;32m   5985\u001b[0m             \u001b[0;32mand\u001b[0m \u001b[0mname\u001b[0m \u001b[0;32mnot\u001b[0m \u001b[0;32min\u001b[0m \u001b[0mself\u001b[0m\u001b[0;34m.\u001b[0m\u001b[0m_accessors\u001b[0m\u001b[0;34m\u001b[0m\u001b[0;34m\u001b[0m\u001b[0m\n\u001b[1;32m   5986\u001b[0m             \u001b[0;32mand\u001b[0m \u001b[0mself\u001b[0m\u001b[0;34m.\u001b[0m\u001b[0m_info_axis\u001b[0m\u001b[0;34m.\u001b[0m\u001b[0m_can_hold_identifiers_and_holds_name\u001b[0m\u001b[0;34m(\u001b[0m\u001b[0mname\u001b[0m\u001b[0;34m)\u001b[0m\u001b[0;34m\u001b[0m\u001b[0;34m\u001b[0m\u001b[0m\n\u001b[1;32m   5987\u001b[0m         ):\n\u001b[1;32m   5988\u001b[0m             \u001b[0;32mreturn\u001b[0m \u001b[0mself\u001b[0m\u001b[0;34m[\u001b[0m\u001b[0mname\u001b[0m\u001b[0;34m]\u001b[0m\u001b[0;34m\u001b[0m\u001b[0;34m\u001b[0m\u001b[0m\n\u001b[0;32m-> 5989\u001b[0;31m         \u001b[0;32mreturn\u001b[0m \u001b[0mobject\u001b[0m\u001b[0;34m.\u001b[0m\u001b[0m__getattribute__\u001b[0m\u001b[0;34m(\u001b[0m\u001b[0mself\u001b[0m\u001b[0;34m,\u001b[0m \u001b[0mname\u001b[0m\u001b[0;34m)\u001b[0m\u001b[0;34m\u001b[0m\u001b[0;34m\u001b[0m\u001b[0m\n\u001b[0m",
      "\u001b[0;31mAttributeError\u001b[0m: 'DataFrame' object has no attribute 'append'"
     ]
    }
   ],
   "source": [
    "for line in lines:\n",
    "    result_series = automate(line)\n",
    "    results_df = results_df.append(result_series, ignore_index=True)"
   ]
  },
  {
   "cell_type": "code",
   "execution_count": 13,
   "id": "c42bdc45-2068-4cd9-b44c-d1d750e4331c",
   "metadata": {
    "tags": []
   },
   "outputs": [
    {
     "name": "stdout",
     "output_type": "stream",
     "text": [
      "2.0.2\n"
     ]
    }
   ],
   "source": [
    "import pandas as pd\n",
    "print(pd.__version__)"
   ]
  },
  {
   "cell_type": "code",
   "execution_count": null,
   "id": "d4eaa42a-5bf1-4b9b-b276-f6faa7093a47",
   "metadata": {
    "tags": []
   },
   "outputs": [],
   "source": [
    "for line in lines:\n",
    "    automate(line)"
   ]
  },
  {
   "cell_type": "code",
   "execution_count": null,
   "id": "01f310c2-26d2-4552-86b3-03fb7429fe77",
   "metadata": {},
   "outputs": [],
   "source": []
  },
  {
   "cell_type": "code",
   "execution_count": null,
   "id": "eb095b82-ff93-49d0-b2f6-3acfff4734ec",
   "metadata": {},
   "outputs": [],
   "source": []
  }
 ],
 "metadata": {
  "kernelspec": {
   "display_name": "Python (templater)",
   "language": "python",
   "name": "templater"
  },
  "language_info": {
   "codemirror_mode": {
    "name": "ipython",
    "version": 3
   },
   "file_extension": ".py",
   "mimetype": "text/x-python",
   "name": "python",
   "nbconvert_exporter": "python",
   "pygments_lexer": "ipython3",
   "version": "3.8.16"
  }
 },
 "nbformat": 4,
 "nbformat_minor": 5
}
